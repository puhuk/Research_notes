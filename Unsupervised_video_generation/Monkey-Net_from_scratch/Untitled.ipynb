{
 "cells": [
  {
   "cell_type": "code",
   "execution_count": 415,
   "id": "7391941e",
   "metadata": {},
   "outputs": [
    {
     "name": "stdout",
     "output_type": "stream",
     "text": [
      "The autoreload extension is already loaded. To reload it, use:\n",
      "  %reload_ext autoreload\n"
     ]
    }
   ],
   "source": [
    "%load_ext autoreload\n",
    "%autoreload 2\n",
    "\n",
    "from torch import nn\n",
    "\n",
    "import torch.nn.functional as F\n",
    "import torch\n",
    "\n",
    "from utils_external.sync_batchnorm import SynchronizedBatchNorm2d as BatchNorm2d\n",
    "from utils_external.sync_batchnorm import SynchronizedBatchNorm3d as BatchNorm3d\n",
    "\n",
    "from utils import Encoder, Decoder"
   ]
  },
  {
   "cell_type": "code",
   "execution_count": 416,
   "id": "92f881f3",
   "metadata": {},
   "outputs": [],
   "source": [
    "from keypoint_detector import KPDetector, Hourglass"
   ]
  },
  {
   "cell_type": "code",
   "execution_count": 417,
   "id": "e2dc7a12",
   "metadata": {},
   "outputs": [],
   "source": [
    "%reload_ext autoreload"
   ]
  },
  {
   "cell_type": "code",
   "execution_count": 398,
   "id": "f2a02ecb",
   "metadata": {},
   "outputs": [],
   "source": [
    "y = torch.randn([10,3,256,256])"
   ]
  },
  {
   "cell_type": "code",
   "execution_count": 399,
   "id": "fbf90c16",
   "metadata": {},
   "outputs": [],
   "source": [
    "x = torch.randn([10,3,1,256,256])"
   ]
  },
  {
   "cell_type": "code",
   "execution_count": 400,
   "id": "768afd06",
   "metadata": {},
   "outputs": [],
   "source": [
    "c = Encoder(in_features=3, max_features=1024, block_expansion=32,dimension=2)"
   ]
  },
  {
   "cell_type": "code",
   "execution_count": 401,
   "id": "21fff1e9",
   "metadata": {},
   "outputs": [],
   "source": [
    "d = Decoder(in_features=3, max_features=1024, block_expansion=32, dimension=2, out_features=10)"
   ]
  },
  {
   "cell_type": "code",
   "execution_count": 249,
   "id": "34582fdf",
   "metadata": {
    "scrolled": true
   },
   "outputs": [
    {
     "data": {
      "text/plain": [
       "torch.Size([10, 10, 256, 256])"
      ]
     },
     "execution_count": 249,
     "metadata": {},
     "output_type": "execute_result"
    }
   ],
   "source": [
    "d(c(y)).shape"
   ]
  },
  {
   "cell_type": "code",
   "execution_count": 251,
   "id": "4aa650da",
   "metadata": {},
   "outputs": [
    {
     "name": "stdout",
     "output_type": "stream",
     "text": [
      "The autoreload extension is already loaded. To reload it, use:\n",
      "  %reload_ext autoreload\n"
     ]
    }
   ],
   "source": [
    "from IPython.lib.deepreload import reload\n",
    "%load_ext autoreload\n",
    "%autoreload 2"
   ]
  },
  {
   "cell_type": "code",
   "execution_count": 252,
   "id": "e0f58aa1",
   "metadata": {},
   "outputs": [],
   "source": [
    "%reload_ext autoreload"
   ]
  },
  {
   "cell_type": "code",
   "execution_count": 253,
   "id": "ba401aa7",
   "metadata": {},
   "outputs": [
    {
     "data": {
      "text/plain": [
       "torch.Size([10, 3, 1, 256, 256])"
      ]
     },
     "execution_count": 253,
     "metadata": {},
     "output_type": "execute_result"
    }
   ],
   "source": [
    "x.shape"
   ]
  },
  {
   "cell_type": "code",
   "execution_count": 418,
   "id": "38e90fe7",
   "metadata": {},
   "outputs": [],
   "source": [
    "x = torch.randn([10,3,1, 256,256])"
   ]
  },
  {
   "cell_type": "code",
   "execution_count": 411,
   "id": "5af93dbf",
   "metadata": {},
   "outputs": [],
   "source": [
    "a = Hourglass(dimension=2, num_kp=10)"
   ]
  },
  {
   "cell_type": "code",
   "execution_count": 420,
   "id": "05a29df7",
   "metadata": {},
   "outputs": [],
   "source": [
    "heatmap_3d = a(x)"
   ]
  },
  {
   "cell_type": "code",
   "execution_count": 421,
   "id": "c76c911c",
   "metadata": {},
   "outputs": [
    {
     "data": {
      "text/plain": [
       "torch.Size([10, 10, 1, 256, 256])"
      ]
     },
     "execution_count": 421,
     "metadata": {},
     "output_type": "execute_result"
    }
   ],
   "source": [
    "heatmap_3d.shape"
   ]
  },
  {
   "cell_type": "code",
   "execution_count": null,
   "id": "8a6b1e6e",
   "metadata": {},
   "outputs": [],
   "source": []
  },
  {
   "cell_type": "code",
   "execution_count": null,
   "id": "c0da7b91",
   "metadata": {},
   "outputs": [],
   "source": []
  },
  {
   "cell_type": "code",
   "execution_count": null,
   "id": "04de19a2",
   "metadata": {},
   "outputs": [],
   "source": []
  },
  {
   "cell_type": "code",
   "execution_count": null,
   "id": "a776639e",
   "metadata": {},
   "outputs": [],
   "source": []
  },
  {
   "cell_type": "code",
   "execution_count": 391,
   "id": "03e41fec",
   "metadata": {},
   "outputs": [
    {
     "ename": "ValueError",
     "evalue": "scale_factor shape must match input shape. Input is 3D, scale_factor is 2",
     "output_type": "error",
     "traceback": [
      "\u001b[1;31m---------------------------------------------------------------------------\u001b[0m",
      "\u001b[1;31mValueError\u001b[0m                                Traceback (most recent call last)",
      "\u001b[1;32m~\\AppData\\Local\\Temp/ipykernel_18360/813241140.py\u001b[0m in \u001b[0;36m<module>\u001b[1;34m\u001b[0m\n\u001b[1;32m----> 1\u001b[1;33m \u001b[0mtmp_1\u001b[0m \u001b[1;33m=\u001b[0m \u001b[0mF\u001b[0m\u001b[1;33m.\u001b[0m\u001b[0minterpolate\u001b[0m\u001b[1;33m(\u001b[0m\u001b[0mx\u001b[0m\u001b[1;33m,\u001b[0m \u001b[0mscale_factor\u001b[0m\u001b[1;33m=\u001b[0m\u001b[1;33m(\u001b[0m\u001b[1;36m0.25\u001b[0m\u001b[1;33m,\u001b[0m \u001b[1;36m0.25\u001b[0m\u001b[1;33m)\u001b[0m\u001b[1;33m)\u001b[0m\u001b[1;33m\u001b[0m\u001b[1;33m\u001b[0m\u001b[0m\n\u001b[0m\u001b[0;32m      2\u001b[0m \u001b[0mtmp_1\u001b[0m\u001b[1;33m.\u001b[0m\u001b[0mshape\u001b[0m\u001b[1;33m\u001b[0m\u001b[1;33m\u001b[0m\u001b[0m\n",
      "\u001b[1;32mc:\\users\\wetr2\\anaconda3\\envs\\videnv\\lib\\site-packages\\torch\\nn\\functional.py\u001b[0m in \u001b[0;36minterpolate\u001b[1;34m(input, size, scale_factor, mode, align_corners, recompute_scale_factor)\u001b[0m\n\u001b[0;32m   3088\u001b[0m             \u001b[1;32mif\u001b[0m \u001b[0mlen\u001b[0m\u001b[1;33m(\u001b[0m\u001b[0mscale_factor\u001b[0m\u001b[1;33m)\u001b[0m \u001b[1;33m!=\u001b[0m \u001b[0mdim\u001b[0m\u001b[1;33m:\u001b[0m\u001b[1;33m\u001b[0m\u001b[1;33m\u001b[0m\u001b[0m\n\u001b[0;32m   3089\u001b[0m                 raise ValueError('scale_factor shape must match input shape. '\n\u001b[1;32m-> 3090\u001b[1;33m                                  'Input is {}D, scale_factor is {}'.format(dim, len(scale_factor)))\n\u001b[0m\u001b[0;32m   3091\u001b[0m             \u001b[0mscale_factors\u001b[0m \u001b[1;33m=\u001b[0m \u001b[0mscale_factor\u001b[0m\u001b[1;33m\u001b[0m\u001b[1;33m\u001b[0m\u001b[0m\n\u001b[0;32m   3092\u001b[0m         \u001b[1;32melse\u001b[0m\u001b[1;33m:\u001b[0m\u001b[1;33m\u001b[0m\u001b[1;33m\u001b[0m\u001b[0m\n",
      "\u001b[1;31mValueError\u001b[0m: scale_factor shape must match input shape. Input is 3D, scale_factor is 2"
     ]
    }
   ],
   "source": [
    "tmp_1 = F.interpolate(x, scale_factor=(0.25, 0.25))\n",
    "tmp_1.shape"
   ]
  },
  {
   "cell_type": "code",
   "execution_count": 256,
   "id": "ba2611ba",
   "metadata": {},
   "outputs": [],
   "source": [
    "a= Hourglass(dimension=2, num_kp=10)"
   ]
  },
  {
   "cell_type": "code",
   "execution_count": 257,
   "id": "333170a8",
   "metadata": {},
   "outputs": [],
   "source": [
    "heatmap = a(x)\n",
    "heatmap.shape\n",
    "\n",
    "final_shape = heatmap.shape"
   ]
  },
  {
   "cell_type": "code",
   "execution_count": 258,
   "id": "6dab549e",
   "metadata": {},
   "outputs": [
    {
     "data": {
      "text/plain": [
       "torch.Size([10, 10, 65536])"
      ]
     },
     "execution_count": 258,
     "metadata": {},
     "output_type": "execute_result"
    }
   ],
   "source": [
    "heatmap = heatmap.view(final_shape[0], final_shape[1], -1)\n",
    "heatmap.shape"
   ]
  },
  {
   "cell_type": "code",
   "execution_count": 259,
   "id": "e95a32c7",
   "metadata": {},
   "outputs": [
    {
     "data": {
      "text/plain": [
       "torch.Size([10, 10, 65536])"
      ]
     },
     "execution_count": 259,
     "metadata": {},
     "output_type": "execute_result"
    }
   ],
   "source": [
    "heatmap_tmp = F.softmax(heatmap / 0.1, dim=2)\n",
    "heatmap_tmp.shape"
   ]
  },
  {
   "cell_type": "code",
   "execution_count": 234,
   "id": "540282d8",
   "metadata": {},
   "outputs": [
    {
     "data": {
      "text/plain": [
       "tensor([2.5754e-09, 6.7504e-11, 2.1276e-10,  ..., 4.2270e-08, 1.4624e-07,\n",
       "        6.2656e-10], grad_fn=<SelectBackward>)"
      ]
     },
     "execution_count": 234,
     "metadata": {},
     "output_type": "execute_result"
    }
   ],
   "source": [
    "heatmap_tmp[0][0]"
   ]
  },
  {
   "cell_type": "code",
   "execution_count": 351,
   "id": "60849729",
   "metadata": {},
   "outputs": [
    {
     "data": {
      "text/plain": [
       "tensor([[0.0022, 0.0069, 0.0059,  ..., 0.0155, 0.0047, 0.0031],\n",
       "        [0.0021, 0.0051, 0.0044,  ..., 0.0068, 0.0018, 0.0012],\n",
       "        [0.0032, 0.0058, 0.0068,  ..., 0.0027, 0.0038, 0.0035],\n",
       "        ...,\n",
       "        [0.0054, 0.0069, 0.0034,  ..., 0.0022, 0.0010, 0.0014],\n",
       "        [0.0024, 0.0029, 0.0023,  ..., 0.0011, 0.0017, 0.0054],\n",
       "        [0.0048, 0.0020, 0.0019,  ..., 0.0017, 0.0018, 0.0041]],\n",
       "       grad_fn=<SelectBackward>)"
      ]
     },
     "execution_count": 351,
     "metadata": {},
     "output_type": "execute_result"
    }
   ],
   "source": [
    "heatmap_tmp = F.softmax(heatmap / 0.5, dim=2)\n",
    "heatmap_tmp.shape\n",
    "heatmap_tmp[0][0]"
   ]
  },
  {
   "cell_type": "code",
   "execution_count": 352,
   "id": "19466a10",
   "metadata": {},
   "outputs": [
    {
     "data": {
      "text/plain": [
       "torch.Size([10, 10, 256, 256])"
      ]
     },
     "execution_count": 352,
     "metadata": {},
     "output_type": "execute_result"
    }
   ],
   "source": [
    "heatmap_tmp = heatmap_tmp.view(*final_shape)\n",
    "heatmap_tmp.shape"
   ]
  },
  {
   "cell_type": "code",
   "execution_count": 353,
   "id": "08d5692c",
   "metadata": {},
   "outputs": [
    {
     "data": {
      "text/plain": [
       "torch.Size([10, 10, 256, 256, 1])"
      ]
     },
     "execution_count": 353,
     "metadata": {},
     "output_type": "execute_result"
    }
   ],
   "source": [
    "shape  = heatmap_tmp.shape\n",
    "aaa = heatmap_tmp.unsqueeze(-1)\n",
    "aaa.shape"
   ]
  },
  {
   "cell_type": "code",
   "execution_count": 354,
   "id": "eb81bc67",
   "metadata": {},
   "outputs": [
    {
     "data": {
      "text/plain": [
       "torch.Size([1, 1, 256, 256, 2])"
      ]
     },
     "execution_count": 354,
     "metadata": {},
     "output_type": "execute_result"
    }
   ],
   "source": [
    "grid = make_coordinate_grid(heatmap_tmp.shape[2:], heatmap_tmp.type()).unsqueeze_(0).unsqueeze_(0)\n",
    "grid.shape"
   ]
  },
  {
   "cell_type": "code",
   "execution_count": 371,
   "id": "db318880",
   "metadata": {},
   "outputs": [
    {
     "data": {
      "text/plain": [
       "tensor([[[-1.0000, -1.0000],\n",
       "         [-0.9922, -1.0000],\n",
       "         [-0.9843, -1.0000],\n",
       "         ...,\n",
       "         [ 0.9843, -1.0000],\n",
       "         [ 0.9922, -1.0000],\n",
       "         [ 1.0000, -1.0000]],\n",
       "\n",
       "        [[-1.0000, -0.9922],\n",
       "         [-0.9922, -0.9922],\n",
       "         [-0.9843, -0.9922],\n",
       "         ...,\n",
       "         [ 0.9843, -0.9922],\n",
       "         [ 0.9922, -0.9922],\n",
       "         [ 1.0000, -0.9922]],\n",
       "\n",
       "        [[-1.0000, -0.9843],\n",
       "         [-0.9922, -0.9843],\n",
       "         [-0.9843, -0.9843],\n",
       "         ...,\n",
       "         [ 0.9843, -0.9843],\n",
       "         [ 0.9922, -0.9843],\n",
       "         [ 1.0000, -0.9843]],\n",
       "\n",
       "        ...,\n",
       "\n",
       "        [[-1.0000,  0.9843],\n",
       "         [-0.9922,  0.9843],\n",
       "         [-0.9843,  0.9843],\n",
       "         ...,\n",
       "         [ 0.9843,  0.9843],\n",
       "         [ 0.9922,  0.9843],\n",
       "         [ 1.0000,  0.9843]],\n",
       "\n",
       "        [[-1.0000,  0.9922],\n",
       "         [-0.9922,  0.9922],\n",
       "         [-0.9843,  0.9922],\n",
       "         ...,\n",
       "         [ 0.9843,  0.9922],\n",
       "         [ 0.9922,  0.9922],\n",
       "         [ 1.0000,  0.9922]],\n",
       "\n",
       "        [[-1.0000,  1.0000],\n",
       "         [-0.9922,  1.0000],\n",
       "         [-0.9843,  1.0000],\n",
       "         ...,\n",
       "         [ 0.9843,  1.0000],\n",
       "         [ 0.9922,  1.0000],\n",
       "         [ 1.0000,  1.0000]]])"
      ]
     },
     "execution_count": 371,
     "metadata": {},
     "output_type": "execute_result"
    }
   ],
   "source": [
    "grid[0][0]"
   ]
  },
  {
   "cell_type": "code",
   "execution_count": 362,
   "id": "87602f42",
   "metadata": {},
   "outputs": [
    {
     "ename": "IndexError",
     "evalue": "index 1 is out of bounds for dimension 0 with size 1",
     "output_type": "error",
     "traceback": [
      "\u001b[1;31m---------------------------------------------------------------------------\u001b[0m",
      "\u001b[1;31mIndexError\u001b[0m                                Traceback (most recent call last)",
      "\u001b[1;32m~\\AppData\\Local\\Temp/ipykernel_18360/2821752964.py\u001b[0m in \u001b[0;36m<module>\u001b[1;34m\u001b[0m\n\u001b[1;32m----> 1\u001b[1;33m \u001b[0mgrid\u001b[0m\u001b[1;33m[\u001b[0m\u001b[1;36m0\u001b[0m\u001b[1;33m]\u001b[0m\u001b[1;33m[\u001b[0m\u001b[1;36m1\u001b[0m\u001b[1;33m]\u001b[0m\u001b[1;33m.\u001b[0m\u001b[0mshape\u001b[0m\u001b[1;33m\u001b[0m\u001b[1;33m\u001b[0m\u001b[0m\n\u001b[0m",
      "\u001b[1;31mIndexError\u001b[0m: index 1 is out of bounds for dimension 0 with size 1"
     ]
    }
   ],
   "source": []
  },
  {
   "cell_type": "code",
   "execution_count": 356,
   "id": "814460ad",
   "metadata": {},
   "outputs": [
    {
     "data": {
      "text/plain": [
       "torch.Size([10, 10, 256, 256, 2])"
      ]
     },
     "execution_count": 356,
     "metadata": {},
     "output_type": "execute_result"
    }
   ],
   "source": [
    "(aaa * grid).shape"
   ]
  },
  {
   "cell_type": "code",
   "execution_count": 357,
   "id": "0c6b12af",
   "metadata": {},
   "outputs": [
    {
     "data": {
      "text/plain": [
       "torch.Size([10, 10, 2])"
      ]
     },
     "execution_count": 357,
     "metadata": {},
     "output_type": "execute_result"
    }
   ],
   "source": [
    "(aaa * grid).sum(dim=(2,3)).shape"
   ]
  },
  {
   "cell_type": "code",
   "execution_count": 387,
   "id": "3487c071",
   "metadata": {},
   "outputs": [],
   "source": [
    "mean = (aaa * grid).sum(dim=(2, 3))"
   ]
  },
  {
   "cell_type": "code",
   "execution_count": 388,
   "id": "c313be54",
   "metadata": {},
   "outputs": [
    {
     "data": {
      "text/plain": [
       "torch.Size([10, 10, 2])"
      ]
     },
     "execution_count": 388,
     "metadata": {},
     "output_type": "execute_result"
    }
   ],
   "source": [
    "mean.shape"
   ]
  },
  {
   "cell_type": "code",
   "execution_count": 376,
   "id": "dd8db336",
   "metadata": {},
   "outputs": [
    {
     "data": {
      "text/plain": [
       "torch.Size([1, 1, 256, 256, 2])"
      ]
     },
     "execution_count": 376,
     "metadata": {},
     "output_type": "execute_result"
    }
   ],
   "source": [
    "grid.shape"
   ]
  },
  {
   "cell_type": "code",
   "execution_count": 389,
   "id": "225209c8",
   "metadata": {},
   "outputs": [
    {
     "ename": "AttributeError",
     "evalue": "'Tensor' object has no attribute 'permutate'",
     "output_type": "error",
     "traceback": [
      "\u001b[1;31m---------------------------------------------------------------------------\u001b[0m",
      "\u001b[1;31mAttributeError\u001b[0m                            Traceback (most recent call last)",
      "\u001b[1;32m~\\AppData\\Local\\Temp/ipykernel_18360/1938901476.py\u001b[0m in \u001b[0;36m<module>\u001b[1;34m\u001b[0m\n\u001b[1;32m----> 1\u001b[1;33m \u001b[0mmean\u001b[0m\u001b[1;33m.\u001b[0m\u001b[0mpermutate\u001b[0m\u001b[1;33m(\u001b[0m\u001b[1;36m0\u001b[0m\u001b[1;33m,\u001b[0m\u001b[1;36m2\u001b[0m\u001b[1;33m,\u001b[0m\u001b[1;36m1\u001b[0m\u001b[1;33m,\u001b[0m\u001b[1;36m3\u001b[0m\u001b[1;33m)\u001b[0m\u001b[1;33m\u001b[0m\u001b[1;33m\u001b[0m\u001b[0m\n\u001b[0m",
      "\u001b[1;31mAttributeError\u001b[0m: 'Tensor' object has no attribute 'permutate'"
     ]
    }
   ],
   "source": [
    "mean.permutate(0,2,1,3)"
   ]
  },
  {
   "cell_type": "code",
   "execution_count": 385,
   "id": "0ee3f3fe",
   "metadata": {},
   "outputs": [
    {
     "data": {
      "text/plain": [
       "torch.Size([1, 1, 10, 10, 2])"
      ]
     },
     "execution_count": 385,
     "metadata": {},
     "output_type": "execute_result"
    }
   ],
   "source": [
    "mean.unsqueeze(0).unsqueeze(0).shape"
   ]
  },
  {
   "cell_type": "code",
   "execution_count": 386,
   "id": "d227e802",
   "metadata": {},
   "outputs": [
    {
     "ename": "RuntimeError",
     "evalue": "The size of tensor a (256) must match the size of tensor b (10) at non-singleton dimension 3",
     "output_type": "error",
     "traceback": [
      "\u001b[1;31m---------------------------------------------------------------------------\u001b[0m",
      "\u001b[1;31mRuntimeError\u001b[0m                              Traceback (most recent call last)",
      "\u001b[1;32m~\\AppData\\Local\\Temp/ipykernel_18360/883959968.py\u001b[0m in \u001b[0;36m<module>\u001b[1;34m\u001b[0m\n\u001b[1;32m----> 1\u001b[1;33m \u001b[0mgrid\u001b[0m \u001b[1;33m-\u001b[0m \u001b[0mmean\u001b[0m\u001b[1;33m\u001b[0m\u001b[1;33m\u001b[0m\u001b[0m\n\u001b[0m",
      "\u001b[1;31mRuntimeError\u001b[0m: The size of tensor a (256) must match the size of tensor b (10) at non-singleton dimension 3"
     ]
    }
   ],
   "source": [
    "grid - mean"
   ]
  },
  {
   "cell_type": "code",
   "execution_count": 382,
   "id": "dde2004a",
   "metadata": {},
   "outputs": [
    {
     "data": {
      "text/plain": [
       "torch.Size([1, 1, 256, 256, 2])"
      ]
     },
     "execution_count": 382,
     "metadata": {},
     "output_type": "execute_result"
    }
   ],
   "source": [
    "grid.shape"
   ]
  },
  {
   "cell_type": "code",
   "execution_count": null,
   "id": "c9d5636c",
   "metadata": {},
   "outputs": [],
   "source": []
  },
  {
   "cell_type": "code",
   "execution_count": null,
   "id": "ed76c86b",
   "metadata": {},
   "outputs": [],
   "source": []
  },
  {
   "cell_type": "code",
   "execution_count": null,
   "id": "7bcb1370",
   "metadata": {},
   "outputs": [],
   "source": []
  },
  {
   "cell_type": "code",
   "execution_count": null,
   "id": "f4085fa9",
   "metadata": {},
   "outputs": [],
   "source": []
  },
  {
   "cell_type": "code",
   "execution_count": null,
   "id": "f0e4764a",
   "metadata": {},
   "outputs": [],
   "source": []
  },
  {
   "cell_type": "code",
   "execution_count": 341,
   "id": "cd49b221",
   "metadata": {},
   "outputs": [
    {
     "data": {
      "text/plain": [
       "torch.Size([10, 10, 256, 256])"
      ]
     },
     "execution_count": 341,
     "metadata": {},
     "output_type": "execute_result"
    }
   ],
   "source": [
    "heatmap_tmp.unsqueeze(-1)\n",
    "heatmap_tmp.shape"
   ]
  },
  {
   "cell_type": "code",
   "execution_count": null,
   "id": "cef48d5b",
   "metadata": {},
   "outputs": [],
   "source": [
    "make_coordinate_grid(heatmap_tmp.shape[2:], aaa.type())"
   ]
  },
  {
   "cell_type": "code",
   "execution_count": 350,
   "id": "171bd885",
   "metadata": {},
   "outputs": [
    {
     "data": {
      "text/plain": [
       "torch.Size([256, 256])"
      ]
     },
     "execution_count": 350,
     "metadata": {},
     "output_type": "execute_result"
    }
   ],
   "source": [
    "heatmap_tmp.shape[2:]"
   ]
  },
  {
   "cell_type": "code",
   "execution_count": 349,
   "id": "99f49181",
   "metadata": {},
   "outputs": [
    {
     "data": {
      "text/plain": [
       "(torch.Size([256]), torch.Size([256]))"
      ]
     },
     "execution_count": 349,
     "metadata": {},
     "output_type": "execute_result"
    }
   ],
   "source": [
    "h, w = heatmap_tmp.shape[2:]\n",
    "x = torch.arange(w).type(aaa.type())\n",
    "y = torch.arange(h).type(aaa.type())\n",
    "\n",
    "x.shape, y.shape"
   ]
  },
  {
   "cell_type": "code",
   "execution_count": 296,
   "id": "0996bc63",
   "metadata": {},
   "outputs": [],
   "source": [
    "x = (2 * (x / (w - 1)) - 1)\n",
    "y = (2 * (y / (h - 1)) - 1)"
   ]
  },
  {
   "cell_type": "code",
   "execution_count": 297,
   "id": "75d1a7c6",
   "metadata": {},
   "outputs": [
    {
     "data": {
      "text/plain": [
       "torch.Size([256])"
      ]
     },
     "execution_count": 297,
     "metadata": {},
     "output_type": "execute_result"
    }
   ],
   "source": [
    "y.shape"
   ]
  },
  {
   "cell_type": "code",
   "execution_count": 327,
   "id": "668d3a7b",
   "metadata": {},
   "outputs": [
    {
     "data": {
      "text/plain": [
       "torch.Size([256, 256])"
      ]
     },
     "execution_count": 327,
     "metadata": {},
     "output_type": "execute_result"
    }
   ],
   "source": [
    "yy = y.view(-1, 1).repeat(1, w)\n",
    "yy.shape"
   ]
  },
  {
   "cell_type": "code",
   "execution_count": 328,
   "id": "4109ffb1",
   "metadata": {},
   "outputs": [
    {
     "data": {
      "text/plain": [
       "tensor([[-1.0000, -1.0000, -1.0000,  ..., -1.0000, -1.0000, -1.0000],\n",
       "        [-0.9922, -0.9922, -0.9922,  ..., -0.9922, -0.9922, -0.9922],\n",
       "        [-0.9843, -0.9843, -0.9843,  ..., -0.9843, -0.9843, -0.9843],\n",
       "        ...,\n",
       "        [ 0.9843,  0.9843,  0.9843,  ...,  0.9843,  0.9843,  0.9843],\n",
       "        [ 0.9922,  0.9922,  0.9922,  ...,  0.9922,  0.9922,  0.9922],\n",
       "        [ 1.0000,  1.0000,  1.0000,  ...,  1.0000,  1.0000,  1.0000]])"
      ]
     },
     "execution_count": 328,
     "metadata": {},
     "output_type": "execute_result"
    }
   ],
   "source": [
    "yy"
   ]
  },
  {
   "cell_type": "code",
   "execution_count": 329,
   "id": "91ea91a5",
   "metadata": {},
   "outputs": [
    {
     "data": {
      "text/plain": [
       "torch.Size([256, 256])"
      ]
     },
     "execution_count": 329,
     "metadata": {},
     "output_type": "execute_result"
    }
   ],
   "source": [
    "xx = x.view(1, -1).repeat(h, 1)\n",
    "xx.shape"
   ]
  },
  {
   "cell_type": "code",
   "execution_count": 348,
   "id": "2cbc6c40",
   "metadata": {},
   "outputs": [
    {
     "data": {
      "text/plain": [
       "torch.Size([256, 256, 1, 1])"
      ]
     },
     "execution_count": 348,
     "metadata": {},
     "output_type": "execute_result"
    }
   ],
   "source": [
    "xx.shape"
   ]
  },
  {
   "cell_type": "code",
   "execution_count": null,
   "id": "67140022",
   "metadata": {},
   "outputs": [],
   "source": []
  },
  {
   "cell_type": "code",
   "execution_count": 344,
   "id": "9cf4a77f",
   "metadata": {},
   "outputs": [
    {
     "data": {
      "text/plain": [
       "torch.Size([256, 256, 2, 1])"
      ]
     },
     "execution_count": 344,
     "metadata": {},
     "output_type": "execute_result"
    }
   ],
   "source": [
    "meshed = torch.cat([xx.unsqueeze_(2), yy.unsqueeze_(2)], 2)\n",
    "meshed.shape"
   ]
  },
  {
   "cell_type": "code",
   "execution_count": 345,
   "id": "f631218c",
   "metadata": {},
   "outputs": [
    {
     "data": {
      "text/plain": [
       "torch.Size([1, 1, 256, 256, 2, 1])"
      ]
     },
     "execution_count": 345,
     "metadata": {},
     "output_type": "execute_result"
    }
   ],
   "source": [
    "meshed = meshed.unsqueeze_(0).unsqueeze_(0)\n",
    "meshed.shape"
   ]
  },
  {
   "cell_type": "code",
   "execution_count": 346,
   "id": "26f29b95",
   "metadata": {},
   "outputs": [
    {
     "data": {
      "text/plain": [
       "torch.Size([1, 1, 256, 256, 2])"
      ]
     },
     "execution_count": 346,
     "metadata": {},
     "output_type": "execute_result"
    }
   ],
   "source": [
    "meshed.squeeze_(-1)\n",
    "meshed.shape"
   ]
  },
  {
   "cell_type": "code",
   "execution_count": 318,
   "id": "c622ad35",
   "metadata": {},
   "outputs": [
    {
     "data": {
      "text/plain": [
       "torch.Size([1, 1, 1, 1, 1, 1, 256, 256, 2])"
      ]
     },
     "execution_count": 318,
     "metadata": {},
     "output_type": "execute_result"
    }
   ],
   "source": [
    "meshed.unsqueeze_(0).unsqueeze_(0).unsqueeze_(0).shape"
   ]
  },
  {
   "cell_type": "code",
   "execution_count": 312,
   "id": "f0ee7607",
   "metadata": {},
   "outputs": [
    {
     "data": {
      "text/plain": [
       "torch.Size([10, 10, 256, 256])"
      ]
     },
     "execution_count": 312,
     "metadata": {},
     "output_type": "execute_result"
    }
   ],
   "source": [
    "heatmap_tmp.shape"
   ]
  },
  {
   "cell_type": "code",
   "execution_count": 347,
   "id": "1c77efc8",
   "metadata": {},
   "outputs": [
    {
     "ename": "RuntimeError",
     "evalue": "The size of tensor a (256) must match the size of tensor b (2) at non-singleton dimension 4",
     "output_type": "error",
     "traceback": [
      "\u001b[1;31m---------------------------------------------------------------------------\u001b[0m",
      "\u001b[1;31mRuntimeError\u001b[0m                              Traceback (most recent call last)",
      "\u001b[1;32m~\\AppData\\Local\\Temp/ipykernel_18360/771169674.py\u001b[0m in \u001b[0;36m<module>\u001b[1;34m\u001b[0m\n\u001b[1;32m----> 1\u001b[1;33m \u001b[1;33m(\u001b[0m\u001b[0mheatmap_tmp\u001b[0m \u001b[1;33m*\u001b[0m \u001b[0mmeshed\u001b[0m\u001b[1;33m)\u001b[0m\u001b[1;33m.\u001b[0m\u001b[0mshape\u001b[0m\u001b[1;33m\u001b[0m\u001b[1;33m\u001b[0m\u001b[0m\n\u001b[0m",
      "\u001b[1;31mRuntimeError\u001b[0m: The size of tensor a (256) must match the size of tensor b (2) at non-singleton dimension 4"
     ]
    }
   ],
   "source": [
    "(heatmap_tmp * meshed).shape"
   ]
  },
  {
   "cell_type": "code",
   "execution_count": 310,
   "id": "241b9031",
   "metadata": {},
   "outputs": [
    {
     "ename": "RuntimeError",
     "evalue": "The size of tensor a (256) must match the size of tensor b (2) at non-singleton dimension 3",
     "output_type": "error",
     "traceback": [
      "\u001b[1;31m---------------------------------------------------------------------------\u001b[0m",
      "\u001b[1;31mRuntimeError\u001b[0m                              Traceback (most recent call last)",
      "\u001b[1;32m~\\AppData\\Local\\Temp/ipykernel_18360/873919279.py\u001b[0m in \u001b[0;36m<module>\u001b[1;34m\u001b[0m\n\u001b[1;32m----> 1\u001b[1;33m \u001b[0mmean\u001b[0m \u001b[1;33m=\u001b[0m \u001b[1;33m(\u001b[0m\u001b[0mheatmap_tmp\u001b[0m \u001b[1;33m*\u001b[0m \u001b[0mmeshed\u001b[0m\u001b[1;33m)\u001b[0m\u001b[1;33m.\u001b[0m\u001b[0msum\u001b[0m\u001b[1;33m(\u001b[0m\u001b[0mdim\u001b[0m\u001b[1;33m=\u001b[0m\u001b[1;33m(\u001b[0m\u001b[1;36m2\u001b[0m\u001b[1;33m,\u001b[0m\u001b[1;36m3\u001b[0m\u001b[1;33m)\u001b[0m\u001b[1;33m)\u001b[0m\u001b[1;33m\u001b[0m\u001b[1;33m\u001b[0m\u001b[0m\n\u001b[0m\u001b[0;32m      2\u001b[0m \u001b[0mmean\u001b[0m\u001b[1;33m.\u001b[0m\u001b[0mshape\u001b[0m\u001b[1;33m\u001b[0m\u001b[1;33m\u001b[0m\u001b[0m\n",
      "\u001b[1;31mRuntimeError\u001b[0m: The size of tensor a (256) must match the size of tensor b (2) at non-singleton dimension 3"
     ]
    }
   ],
   "source": [
    "mean = (heatmap_tmp * meshed).sum(dim=(2,3))\n",
    "mean.shape"
   ]
  },
  {
   "cell_type": "code",
   "execution_count": null,
   "id": "18614683",
   "metadata": {},
   "outputs": [],
   "source": [
    "make_coordinate_grid(shape[2:], heatmap.type())"
   ]
  },
  {
   "cell_type": "code",
   "execution_count": 261,
   "id": "21ce28f2",
   "metadata": {},
   "outputs": [],
   "source": [
    "def gaussian2kp_2d(heatmap):\n",
    "    \"\"\"\n",
    "    Extract the mean and from a heatmap\n",
    "    \"\"\"\n",
    "    shape = heatmap.shape\n",
    "    heatmap = heatmap.unsqueeze(-1)\n",
    "    grid = make_coordinate_grid(shape[2:], heatmap.type()).unsqueeze_(0).unsqueeze_(0)\n",
    "    value = (heatmap * grid).sum(dim=(2, 3))\n",
    "    kp = {'value': value}\n",
    "\n",
    "    return kp\n"
   ]
  },
  {
   "cell_type": "code",
   "execution_count": 269,
   "id": "d619e259",
   "metadata": {},
   "outputs": [
    {
     "ename": "NameError",
     "evalue": "name 'make_coordinate_grid' is not defined",
     "output_type": "error",
     "traceback": [
      "\u001b[1;31m---------------------------------------------------------------------------\u001b[0m",
      "\u001b[1;31mNameError\u001b[0m                                 Traceback (most recent call last)",
      "\u001b[1;32m~\\AppData\\Local\\Temp/ipykernel_18360/3932950318.py\u001b[0m in \u001b[0;36m<module>\u001b[1;34m\u001b[0m\n\u001b[1;32m----> 1\u001b[1;33m \u001b[0mout\u001b[0m \u001b[1;33m=\u001b[0m \u001b[0mgaussian2kp_2d\u001b[0m\u001b[1;33m(\u001b[0m\u001b[0mheatmap\u001b[0m\u001b[1;33m)\u001b[0m\u001b[1;33m\u001b[0m\u001b[1;33m\u001b[0m\u001b[0m\n\u001b[0m",
      "\u001b[1;32m~\\AppData\\Local\\Temp/ipykernel_18360/3284364352.py\u001b[0m in \u001b[0;36mgaussian2kp_2d\u001b[1;34m(heatmap)\u001b[0m\n\u001b[0;32m      5\u001b[0m     \u001b[0mshape\u001b[0m \u001b[1;33m=\u001b[0m \u001b[0mheatmap\u001b[0m\u001b[1;33m.\u001b[0m\u001b[0mshape\u001b[0m\u001b[1;33m\u001b[0m\u001b[1;33m\u001b[0m\u001b[0m\n\u001b[0;32m      6\u001b[0m     \u001b[0mheatmap\u001b[0m \u001b[1;33m=\u001b[0m \u001b[0mheatmap\u001b[0m\u001b[1;33m.\u001b[0m\u001b[0munsqueeze\u001b[0m\u001b[1;33m(\u001b[0m\u001b[1;33m-\u001b[0m\u001b[1;36m1\u001b[0m\u001b[1;33m)\u001b[0m\u001b[1;33m\u001b[0m\u001b[1;33m\u001b[0m\u001b[0m\n\u001b[1;32m----> 7\u001b[1;33m     \u001b[0mgrid\u001b[0m \u001b[1;33m=\u001b[0m \u001b[0mmake_coordinate_grid\u001b[0m\u001b[1;33m(\u001b[0m\u001b[0mshape\u001b[0m\u001b[1;33m[\u001b[0m\u001b[1;36m2\u001b[0m\u001b[1;33m:\u001b[0m\u001b[1;33m]\u001b[0m\u001b[1;33m,\u001b[0m \u001b[0mheatmap\u001b[0m\u001b[1;33m.\u001b[0m\u001b[0mtype\u001b[0m\u001b[1;33m(\u001b[0m\u001b[1;33m)\u001b[0m\u001b[1;33m)\u001b[0m\u001b[1;33m.\u001b[0m\u001b[0munsqueeze_\u001b[0m\u001b[1;33m(\u001b[0m\u001b[1;36m0\u001b[0m\u001b[1;33m)\u001b[0m\u001b[1;33m.\u001b[0m\u001b[0munsqueeze_\u001b[0m\u001b[1;33m(\u001b[0m\u001b[1;36m0\u001b[0m\u001b[1;33m)\u001b[0m\u001b[1;33m\u001b[0m\u001b[1;33m\u001b[0m\u001b[0m\n\u001b[0m\u001b[0;32m      8\u001b[0m     \u001b[0mvalue\u001b[0m \u001b[1;33m=\u001b[0m \u001b[1;33m(\u001b[0m\u001b[0mheatmap\u001b[0m \u001b[1;33m*\u001b[0m \u001b[0mgrid\u001b[0m\u001b[1;33m)\u001b[0m\u001b[1;33m.\u001b[0m\u001b[0msum\u001b[0m\u001b[1;33m(\u001b[0m\u001b[0mdim\u001b[0m\u001b[1;33m=\u001b[0m\u001b[1;33m(\u001b[0m\u001b[1;36m2\u001b[0m\u001b[1;33m,\u001b[0m \u001b[1;36m3\u001b[0m\u001b[1;33m)\u001b[0m\u001b[1;33m)\u001b[0m\u001b[1;33m\u001b[0m\u001b[1;33m\u001b[0m\u001b[0m\n\u001b[0;32m      9\u001b[0m     \u001b[0mkp\u001b[0m \u001b[1;33m=\u001b[0m \u001b[1;33m{\u001b[0m\u001b[1;34m'value'\u001b[0m\u001b[1;33m:\u001b[0m \u001b[0mvalue\u001b[0m\u001b[1;33m}\u001b[0m\u001b[1;33m\u001b[0m\u001b[1;33m\u001b[0m\u001b[0m\n",
      "\u001b[1;31mNameError\u001b[0m: name 'make_coordinate_grid' is not defined"
     ]
    }
   ],
   "source": [
    "out = gaussian2kp_2d(heatmap)"
   ]
  },
  {
   "cell_type": "code",
   "execution_count": 265,
   "id": "406a7bf7",
   "metadata": {},
   "outputs": [
    {
     "data": {
      "text/plain": [
       "torch.Size([10, 10, 256, 256])"
      ]
     },
     "execution_count": 265,
     "metadata": {},
     "output_type": "execute_result"
    }
   ],
   "source": [
    "shape = heatmap.shape\n",
    "shape"
   ]
  },
  {
   "cell_type": "code",
   "execution_count": 266,
   "id": "859f409c",
   "metadata": {},
   "outputs": [
    {
     "data": {
      "text/plain": [
       "'torch.FloatTensor'"
      ]
     },
     "execution_count": 266,
     "metadata": {},
     "output_type": "execute_result"
    }
   ],
   "source": [
    "heatmap.type()"
   ]
  },
  {
   "cell_type": "code",
   "execution_count": 272,
   "id": "71ebd0d0",
   "metadata": {},
   "outputs": [
    {
     "ename": "ValueError",
     "evalue": "too many values to unpack (expected 2)",
     "output_type": "error",
     "traceback": [
      "\u001b[1;31m---------------------------------------------------------------------------\u001b[0m",
      "\u001b[1;31mValueError\u001b[0m                                Traceback (most recent call last)",
      "\u001b[1;32m~\\AppData\\Local\\Temp/ipykernel_18360/1229868223.py\u001b[0m in \u001b[0;36m<module>\u001b[1;34m\u001b[0m\n\u001b[1;32m----> 1\u001b[1;33m \u001b[0mh\u001b[0m\u001b[1;33m,\u001b[0m \u001b[0mw\u001b[0m \u001b[1;33m=\u001b[0m \u001b[0mshape\u001b[0m\u001b[1;33m\u001b[0m\u001b[1;33m\u001b[0m\u001b[0m\n\u001b[0m\u001b[0;32m      2\u001b[0m \u001b[0mtype\u001b[0m \u001b[1;33m=\u001b[0m \u001b[0mheatmap\u001b[0m\u001b[1;33m.\u001b[0m\u001b[0mtype\u001b[0m\u001b[1;33m(\u001b[0m\u001b[1;33m)\u001b[0m\u001b[1;33m\u001b[0m\u001b[1;33m\u001b[0m\u001b[0m\n",
      "\u001b[1;31mValueError\u001b[0m: too many values to unpack (expected 2)"
     ]
    }
   ],
   "source": [
    "h, w = shape\n",
    "type = heatmap.type()"
   ]
  },
  {
   "cell_type": "code",
   "execution_count": null,
   "id": "84959977",
   "metadata": {},
   "outputs": [],
   "source": []
  },
  {
   "cell_type": "code",
   "execution_count": 270,
   "id": "6d16de27",
   "metadata": {},
   "outputs": [],
   "source": [
    "def make_coordinate_grid(spatial_size, type):\n",
    "    \"\"\"\n",
    "    Create a meshgrid [-1,1] x [-1,1] of given spatial_size.\n",
    "    \"\"\"\n",
    "    h, w = spatial_size\n",
    "    x = torch.arange(w).type(type)\n",
    "    y = torch.arange(h).type(type)\n",
    "\n",
    "    x = (2 * (x / (w - 1)) - 1)\n",
    "    y = (2 * (y / (h - 1)) - 1)\n",
    "\n",
    "    yy = y.view(-1, 1).repeat(1, w)\n",
    "    xx = x.view(1, -1).repeat(h, 1)\n",
    "\n",
    "    meshed = torch.cat([xx.unsqueeze_(2), yy.unsqueeze_(2)], 2)\n",
    "\n",
    "    return meshed"
   ]
  },
  {
   "cell_type": "code",
   "execution_count": null,
   "id": "0aa43f20",
   "metadata": {},
   "outputs": [],
   "source": [
    "make_coordinate_grid(shape[2:], heatmap.type())"
   ]
  },
  {
   "cell_type": "code",
   "execution_count": null,
   "id": "c28f7690",
   "metadata": {},
   "outputs": [],
   "source": []
  },
  {
   "cell_type": "code",
   "execution_count": null,
   "id": "b8777e9a",
   "metadata": {},
   "outputs": [],
   "source": []
  },
  {
   "cell_type": "code",
   "execution_count": null,
   "id": "a7e6d556",
   "metadata": {},
   "outputs": [],
   "source": []
  },
  {
   "cell_type": "code",
   "execution_count": null,
   "id": "42e72e03",
   "metadata": {},
   "outputs": [],
   "source": []
  },
  {
   "cell_type": "code",
   "execution_count": null,
   "id": "eaeed30f",
   "metadata": {},
   "outputs": [],
   "source": []
  },
  {
   "cell_type": "code",
   "execution_count": 200,
   "id": "e157bb45",
   "metadata": {},
   "outputs": [
    {
     "name": "stdout",
     "output_type": "stream",
     "text": [
      "[0, 0, 3, 4, 5, 7]\n"
     ]
    }
   ],
   "source": [
    "N, W = 4, 5\n",
    "bag = [(2,3), (3,4), (4,5), (5,6)] # (weight,benefit) 순서\n",
    "\n",
    "knap = [0 for _ in range(W+1)]\n",
    "\n",
    "for i in range(N):\n",
    "    for j in range(W, 1, -1):\n",
    "        if bag[i][0] <= j:\n",
    "            knap[j] = max(knap[j], knap[j-bag[i][0]] + bag[i][1])\n",
    "\n",
    "print(knap)"
   ]
  },
  {
   "cell_type": "code",
   "execution_count": 268,
   "id": "d9e9ca66",
   "metadata": {},
   "outputs": [
    {
     "name": "stdout",
     "output_type": "stream",
     "text": [
      "64700\n",
      "10200\n",
      "10200\n",
      "9800\n",
      "10200\n",
      "4300\n",
      "9800\n",
      "10200\n"
     ]
    }
   ],
   "source": [
    "def printknapSack(W, wt, val, n):\n",
    "    K = [[0 for w in range(W + 1)]\n",
    "            for i in range(n + 1)]\n",
    "             \n",
    "    # Build table K[][] in bottom\n",
    "    # up manner\n",
    "    for i in range(n + 1):\n",
    "        for w in range(W + 1):\n",
    "            if i == 0 or w == 0:\n",
    "                K[i][w] = 0\n",
    "            elif wt[i - 1] <= w:\n",
    "                K[i][w] = max(val[i - 1]\n",
    "                  + K[i - 1][w - wt[i - 1]],\n",
    "                               K[i - 1][w])\n",
    "            else:\n",
    "                K[i][w] = K[i - 1][w]\n",
    " \n",
    "    # stores the result of Knapsack\n",
    "    res = K[n][W]\n",
    "    print(res)\n",
    "     \n",
    "    w = W\n",
    "    for i in range(n, 0, -1):\n",
    "        if res <= 0:\n",
    "            break\n",
    "        # either the result comes from the\n",
    "        # top (K[i-1][w]) or from (val[i-1]\n",
    "        # + K[i-1] [w-wt[i-1]]) as in Knapsack\n",
    "        # table. If it comes from the latter\n",
    "        # one/ it means the item is included.\n",
    "        if res == K[i - 1][w]:\n",
    "            continue\n",
    "        else:\n",
    " \n",
    "            # This item is included.\n",
    "            print(wt[i - 1])\n",
    "             \n",
    "            # Since this weight is included\n",
    "            # its value is deducted\n",
    "            res = res - val[i - 1]\n",
    "            w = w - wt[i - 1]\n",
    "\n",
    "            \n",
    "val = [10200, 9800, 4300,10200, 9800, 4300,10200, 9800, 4300,10200, 9800, 4300]\n",
    "wt = [10200, 9800, 4300,10200, 9800, 4300,10200, 9800, 4300,10200, 9800, 4300]\n",
    "W = 64800\n",
    "n = len(val)\n",
    "     \n",
    "printknapSack(W, wt, val, n)"
   ]
  },
  {
   "cell_type": "code",
   "execution_count": 227,
   "id": "e0d6d18b",
   "metadata": {},
   "outputs": [
    {
     "data": {
      "text/plain": [
       "64700"
      ]
     },
     "execution_count": 227,
     "metadata": {},
     "output_type": "execute_result"
    }
   ],
   "source": [
    "4300*4 + 9800*4 + "
   ]
  },
  {
   "cell_type": "code",
   "execution_count": null,
   "id": "0b3e4438",
   "metadata": {},
   "outputs": [],
   "source": []
  },
  {
   "cell_type": "code",
   "execution_count": 176,
   "id": "ae63d9b9",
   "metadata": {},
   "outputs": [],
   "source": [
    "kp = KPDetector(block_expansion=32, num_kp=10, num_channels=3, max_features=1024, num_blocks=5, temperature=0.1, kp_variance='matrix')"
   ]
  },
  {
   "cell_type": "code",
   "execution_count": 177,
   "id": "0c414c90",
   "metadata": {},
   "outputs": [],
   "source": [
    "x = torch.randn([10,3,256,256])"
   ]
  },
  {
   "cell_type": "code",
   "execution_count": 178,
   "id": "10ae542f",
   "metadata": {},
   "outputs": [
    {
     "ename": "NameError",
     "evalue": "name 'make_coordinate_grid' is not defined",
     "output_type": "error",
     "traceback": [
      "\u001b[1;31m---------------------------------------------------------------------------\u001b[0m",
      "\u001b[1;31mNameError\u001b[0m                                 Traceback (most recent call last)",
      "\u001b[1;32m~\\AppData\\Local\\Temp/ipykernel_18360/1084751298.py\u001b[0m in \u001b[0;36m<module>\u001b[1;34m\u001b[0m\n\u001b[1;32m----> 1\u001b[1;33m \u001b[0mkp\u001b[0m\u001b[1;33m(\u001b[0m\u001b[0mx\u001b[0m\u001b[1;33m)\u001b[0m\u001b[1;33m\u001b[0m\u001b[1;33m\u001b[0m\u001b[0m\n\u001b[0m",
      "\u001b[1;32mc:\\users\\wetr2\\anaconda3\\envs\\videnv\\lib\\site-packages\\torch\\nn\\modules\\module.py\u001b[0m in \u001b[0;36m_call_impl\u001b[1;34m(self, *input, **kwargs)\u001b[0m\n\u001b[0;32m    725\u001b[0m             \u001b[0mresult\u001b[0m \u001b[1;33m=\u001b[0m \u001b[0mself\u001b[0m\u001b[1;33m.\u001b[0m\u001b[0m_slow_forward\u001b[0m\u001b[1;33m(\u001b[0m\u001b[1;33m*\u001b[0m\u001b[0minput\u001b[0m\u001b[1;33m,\u001b[0m \u001b[1;33m**\u001b[0m\u001b[0mkwargs\u001b[0m\u001b[1;33m)\u001b[0m\u001b[1;33m\u001b[0m\u001b[1;33m\u001b[0m\u001b[0m\n\u001b[0;32m    726\u001b[0m         \u001b[1;32melse\u001b[0m\u001b[1;33m:\u001b[0m\u001b[1;33m\u001b[0m\u001b[1;33m\u001b[0m\u001b[0m\n\u001b[1;32m--> 727\u001b[1;33m             \u001b[0mresult\u001b[0m \u001b[1;33m=\u001b[0m \u001b[0mself\u001b[0m\u001b[1;33m.\u001b[0m\u001b[0mforward\u001b[0m\u001b[1;33m(\u001b[0m\u001b[1;33m*\u001b[0m\u001b[0minput\u001b[0m\u001b[1;33m,\u001b[0m \u001b[1;33m**\u001b[0m\u001b[0mkwargs\u001b[0m\u001b[1;33m)\u001b[0m\u001b[1;33m\u001b[0m\u001b[1;33m\u001b[0m\u001b[0m\n\u001b[0m\u001b[0;32m    728\u001b[0m         for hook in itertools.chain(\n\u001b[0;32m    729\u001b[0m                 \u001b[0m_global_forward_hooks\u001b[0m\u001b[1;33m.\u001b[0m\u001b[0mvalues\u001b[0m\u001b[1;33m(\u001b[0m\u001b[1;33m)\u001b[0m\u001b[1;33m,\u001b[0m\u001b[1;33m\u001b[0m\u001b[1;33m\u001b[0m\u001b[0m\n",
      "\u001b[1;32m~\\Documents\\GitHub\\Research_notes\\Unsupervised_video_generation\\Monkey-Net_from_scratch\\keypoint_detector.py\u001b[0m in \u001b[0;36mforward\u001b[1;34m(self, x)\u001b[0m\n\u001b[0;32m     57\u001b[0m             \u001b[0mheatmap\u001b[0m \u001b[1;33m=\u001b[0m \u001b[0mheatmap\u001b[0m\u001b[1;33m.\u001b[0m\u001b[0mview\u001b[0m\u001b[1;33m(\u001b[0m\u001b[1;33m*\u001b[0m\u001b[0mfinal_shape\u001b[0m\u001b[1;33m)\u001b[0m\u001b[1;33m\u001b[0m\u001b[1;33m\u001b[0m\u001b[0m\n\u001b[0;32m     58\u001b[0m \u001b[1;33m\u001b[0m\u001b[0m\n\u001b[1;32m---> 59\u001b[1;33m             \u001b[0mout\u001b[0m \u001b[1;33m=\u001b[0m \u001b[0mgaussian2kp\u001b[0m\u001b[1;33m(\u001b[0m\u001b[0mheatmap\u001b[0m\u001b[1;33m)\u001b[0m\u001b[1;33m\u001b[0m\u001b[1;33m\u001b[0m\u001b[0m\n\u001b[0m\u001b[0;32m     60\u001b[0m \u001b[1;33m\u001b[0m\u001b[0m\n\u001b[0;32m     61\u001b[0m         \u001b[1;32melif\u001b[0m \u001b[0mself\u001b[0m\u001b[1;33m.\u001b[0m\u001b[0mdimension\u001b[0m\u001b[1;33m==\u001b[0m\u001b[1;36m3\u001b[0m\u001b[1;33m:\u001b[0m\u001b[1;33m\u001b[0m\u001b[1;33m\u001b[0m\u001b[0m\n",
      "\u001b[1;32m~\\Documents\\GitHub\\Research_notes\\Unsupervised_video_generation\\Monkey-Net_from_scratch\\keypoint_detector.py\u001b[0m in \u001b[0;36mgaussian2kp\u001b[1;34m(heatmap)\u001b[0m\n\u001b[0;32m     11\u001b[0m     \u001b[0mshape\u001b[0m \u001b[1;33m=\u001b[0m \u001b[0mheatmap\u001b[0m\u001b[1;33m.\u001b[0m\u001b[0mshape\u001b[0m\u001b[1;33m\u001b[0m\u001b[1;33m\u001b[0m\u001b[0m\n\u001b[0;32m     12\u001b[0m     \u001b[0mheatmap\u001b[0m \u001b[1;33m=\u001b[0m \u001b[0mheatmap\u001b[0m\u001b[1;33m.\u001b[0m\u001b[0munsqueeze\u001b[0m\u001b[1;33m(\u001b[0m\u001b[1;33m-\u001b[0m\u001b[1;36m1\u001b[0m\u001b[1;33m)\u001b[0m\u001b[1;33m\u001b[0m\u001b[1;33m\u001b[0m\u001b[0m\n\u001b[1;32m---> 13\u001b[1;33m     \u001b[0mgrid\u001b[0m \u001b[1;33m=\u001b[0m \u001b[0mmake_coordinate_grid\u001b[0m\u001b[1;33m(\u001b[0m\u001b[0mshape\u001b[0m\u001b[1;33m[\u001b[0m\u001b[1;36m2\u001b[0m\u001b[1;33m:\u001b[0m\u001b[1;33m]\u001b[0m\u001b[1;33m,\u001b[0m \u001b[0mheatmap\u001b[0m\u001b[1;33m.\u001b[0m\u001b[0mtype\u001b[0m\u001b[1;33m(\u001b[0m\u001b[1;33m)\u001b[0m\u001b[1;33m)\u001b[0m\u001b[1;33m.\u001b[0m\u001b[0munsqueeze_\u001b[0m\u001b[1;33m(\u001b[0m\u001b[1;36m0\u001b[0m\u001b[1;33m)\u001b[0m\u001b[1;33m.\u001b[0m\u001b[0munsqueeze_\u001b[0m\u001b[1;33m(\u001b[0m\u001b[1;36m0\u001b[0m\u001b[1;33m)\u001b[0m\u001b[1;33m\u001b[0m\u001b[1;33m\u001b[0m\u001b[0m\n\u001b[0m\u001b[0;32m     14\u001b[0m     \u001b[0mvalue\u001b[0m \u001b[1;33m=\u001b[0m \u001b[1;33m(\u001b[0m\u001b[0mheatmap\u001b[0m \u001b[1;33m*\u001b[0m \u001b[0mgrid\u001b[0m\u001b[1;33m)\u001b[0m\u001b[1;33m.\u001b[0m\u001b[0msum\u001b[0m\u001b[1;33m(\u001b[0m\u001b[0mdim\u001b[0m\u001b[1;33m=\u001b[0m\u001b[1;33m(\u001b[0m\u001b[1;36m2\u001b[0m\u001b[1;33m,\u001b[0m \u001b[1;36m3\u001b[0m\u001b[1;33m)\u001b[0m\u001b[1;33m)\u001b[0m\u001b[1;33m\u001b[0m\u001b[1;33m\u001b[0m\u001b[0m\n\u001b[0;32m     15\u001b[0m     \u001b[0mkp\u001b[0m \u001b[1;33m=\u001b[0m \u001b[1;33m{\u001b[0m\u001b[1;34m'value'\u001b[0m\u001b[1;33m:\u001b[0m \u001b[0mvalue\u001b[0m\u001b[1;33m}\u001b[0m\u001b[1;33m\u001b[0m\u001b[1;33m\u001b[0m\u001b[0m\n",
      "\u001b[1;31mNameError\u001b[0m: name 'make_coordinate_grid' is not defined"
     ]
    }
   ],
   "source": [
    "kp(x)"
   ]
  },
  {
   "cell_type": "code",
   "execution_count": 179,
   "id": "05f3c078",
   "metadata": {},
   "outputs": [],
   "source": [
    "spatial_size = (256, 256)\n",
    "h, w = spatial_size"
   ]
  },
  {
   "cell_type": "code",
   "execution_count": 180,
   "id": "2db524ca",
   "metadata": {},
   "outputs": [
    {
     "ename": "ValueError",
     "evalue": "invalid type: 'type'",
     "output_type": "error",
     "traceback": [
      "\u001b[1;31m---------------------------------------------------------------------------\u001b[0m",
      "\u001b[1;31mValueError\u001b[0m                                Traceback (most recent call last)",
      "\u001b[1;32m~\\AppData\\Local\\Temp/ipykernel_18360/2501410327.py\u001b[0m in \u001b[0;36m<module>\u001b[1;34m\u001b[0m\n\u001b[1;32m----> 1\u001b[1;33m \u001b[0mx\u001b[0m \u001b[1;33m=\u001b[0m \u001b[0mtorch\u001b[0m\u001b[1;33m.\u001b[0m\u001b[0marange\u001b[0m\u001b[1;33m(\u001b[0m\u001b[0mw\u001b[0m\u001b[1;33m)\u001b[0m\u001b[1;33m.\u001b[0m\u001b[0mtype\u001b[0m\u001b[1;33m(\u001b[0m\u001b[0mtype\u001b[0m\u001b[1;33m)\u001b[0m\u001b[1;33m\u001b[0m\u001b[1;33m\u001b[0m\u001b[0m\n\u001b[0m\u001b[0;32m      2\u001b[0m \u001b[0my\u001b[0m \u001b[1;33m=\u001b[0m \u001b[0mtorch\u001b[0m\u001b[1;33m.\u001b[0m\u001b[0marange\u001b[0m\u001b[1;33m(\u001b[0m\u001b[0mh\u001b[0m\u001b[1;33m)\u001b[0m\u001b[1;33m.\u001b[0m\u001b[0mtype\u001b[0m\u001b[1;33m(\u001b[0m\u001b[0mtype\u001b[0m\u001b[1;33m)\u001b[0m\u001b[1;33m\u001b[0m\u001b[1;33m\u001b[0m\u001b[0m\n",
      "\u001b[1;31mValueError\u001b[0m: invalid type: 'type'"
     ]
    }
   ],
   "source": [
    "x = torch.arange(w).type(type)\n",
    "y = torch.arange(h).type(type)"
   ]
  }
 ],
 "metadata": {
  "kernelspec": {
   "display_name": "Python 3 (ipykernel)",
   "language": "python",
   "name": "python3"
  },
  "language_info": {
   "codemirror_mode": {
    "name": "ipython",
    "version": 3
   },
   "file_extension": ".py",
   "mimetype": "text/x-python",
   "name": "python",
   "nbconvert_exporter": "python",
   "pygments_lexer": "ipython3",
   "version": "3.7.10"
  }
 },
 "nbformat": 4,
 "nbformat_minor": 5
}
