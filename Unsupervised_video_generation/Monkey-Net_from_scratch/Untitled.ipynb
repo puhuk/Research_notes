{
 "cells": [
  {
   "cell_type": "code",
   "execution_count": 173,
   "id": "7391941e",
   "metadata": {},
   "outputs": [
    {
     "name": "stdout",
     "output_type": "stream",
     "text": [
      "The autoreload extension is already loaded. To reload it, use:\n",
      "  %reload_ext autoreload\n"
     ]
    }
   ],
   "source": [
    "%load_ext autoreload\n",
    "%autoreload 2\n",
    "\n",
    "from torch import nn\n",
    "\n",
    "import torch.nn.functional as F\n",
    "import torch\n",
    "\n",
    "from utils_external.sync_batchnorm import SynchronizedBatchNorm2d as BatchNorm2d\n",
    "from utils_external.sync_batchnorm import SynchronizedBatchNorm3d as BatchNorm3d\n",
    "\n",
    "from utils import Encoder, Decoder"
   ]
  },
  {
   "cell_type": "code",
   "execution_count": 191,
   "id": "92f881f3",
   "metadata": {},
   "outputs": [],
   "source": [
    "from keypoint_detector import KPDetector, Hourglass"
   ]
  },
  {
   "cell_type": "code",
   "execution_count": 175,
   "id": "e2dc7a12",
   "metadata": {},
   "outputs": [],
   "source": [
    "%reload_ext autoreload"
   ]
  },
  {
   "cell_type": "code",
   "execution_count": 139,
   "id": "f2a02ecb",
   "metadata": {},
   "outputs": [],
   "source": [
    "y = torch.randn([10,3,256,256])"
   ]
  },
  {
   "cell_type": "code",
   "execution_count": 140,
   "id": "fbf90c16",
   "metadata": {},
   "outputs": [],
   "source": [
    "x = torch.randn([10,3,1,256,256])"
   ]
  },
  {
   "cell_type": "code",
   "execution_count": 141,
   "id": "768afd06",
   "metadata": {},
   "outputs": [],
   "source": [
    "c = Encoder(in_features=3, max_features=1024, block_expansion=32,dimension=2)"
   ]
  },
  {
   "cell_type": "code",
   "execution_count": 142,
   "id": "21fff1e9",
   "metadata": {},
   "outputs": [],
   "source": [
    "d = Decoder(in_features=3, max_features=1024, block_expansion=32, dimension=2, out_features=10)"
   ]
  },
  {
   "cell_type": "code",
   "execution_count": 143,
   "id": "34582fdf",
   "metadata": {},
   "outputs": [
    {
     "data": {
      "text/plain": [
       "torch.Size([10, 10, 256, 256])"
      ]
     },
     "execution_count": 143,
     "metadata": {},
     "output_type": "execute_result"
    }
   ],
   "source": [
    "d(c(y)).shape"
   ]
  },
  {
   "cell_type": "code",
   "execution_count": 10,
   "id": "dab51eea",
   "metadata": {},
   "outputs": [
    {
     "ename": "NameError",
     "evalue": "name 'utils' is not defined",
     "output_type": "error",
     "traceback": [
      "\u001b[1;31m---------------------------------------------------------------------------\u001b[0m",
      "\u001b[1;31mNameError\u001b[0m                                 Traceback (most recent call last)",
      "\u001b[1;32m~\\AppData\\Local\\Temp/ipykernel_18360/3835687795.py\u001b[0m in \u001b[0;36m<module>\u001b[1;34m\u001b[0m\n\u001b[0;32m      1\u001b[0m \u001b[1;32mimport\u001b[0m \u001b[0mimportlib\u001b[0m\u001b[1;33m\u001b[0m\u001b[1;33m\u001b[0m\u001b[0m\n\u001b[1;32m----> 2\u001b[1;33m \u001b[0mimportlib\u001b[0m\u001b[1;33m.\u001b[0m\u001b[0mreload\u001b[0m\u001b[1;33m(\u001b[0m\u001b[0mutils\u001b[0m\u001b[1;33m.\u001b[0m\u001b[0mEncoder\u001b[0m\u001b[1;33m)\u001b[0m\u001b[1;33m\u001b[0m\u001b[1;33m\u001b[0m\u001b[0m\n\u001b[0m",
      "\u001b[1;31mNameError\u001b[0m: name 'utils' is not defined"
     ]
    }
   ],
   "source": [
    "import importlib\n",
    "importlib.reload(utils.Encoder)"
   ]
  },
  {
   "cell_type": "code",
   "execution_count": 35,
   "id": "4aa650da",
   "metadata": {},
   "outputs": [
    {
     "name": "stdout",
     "output_type": "stream",
     "text": [
      "The autoreload extension is already loaded. To reload it, use:\n",
      "  %reload_ext autoreload\n"
     ]
    }
   ],
   "source": [
    "from IPython.lib.deepreload import reload\n",
    "%load_ext autoreload\n",
    "%autoreload 2"
   ]
  },
  {
   "cell_type": "code",
   "execution_count": 36,
   "id": "e0f58aa1",
   "metadata": {},
   "outputs": [],
   "source": [
    "%reload_ext autoreload"
   ]
  },
  {
   "cell_type": "code",
   "execution_count": 182,
   "id": "ba401aa7",
   "metadata": {},
   "outputs": [
    {
     "data": {
      "text/plain": [
       "torch.Size([10, 3, 256, 256])"
      ]
     },
     "execution_count": 182,
     "metadata": {},
     "output_type": "execute_result"
    }
   ],
   "source": [
    "x.shape"
   ]
  },
  {
   "cell_type": "code",
   "execution_count": 187,
   "id": "38e90fe7",
   "metadata": {},
   "outputs": [],
   "source": [
    "x = torch.randn([10,3,256,256])"
   ]
  },
  {
   "cell_type": "code",
   "execution_count": 189,
   "id": "03e41fec",
   "metadata": {},
   "outputs": [
    {
     "data": {
      "text/plain": [
       "torch.Size([10, 3, 64, 64])"
      ]
     },
     "execution_count": 189,
     "metadata": {},
     "output_type": "execute_result"
    }
   ],
   "source": [
    "tmp_1 = F.interpolate(x, scale_factor=(0.25, 0.25))\n",
    "tmp_1.shape"
   ]
  },
  {
   "cell_type": "code",
   "execution_count": 192,
   "id": "ba2611ba",
   "metadata": {},
   "outputs": [],
   "source": [
    " a= Hourglass(dimension=2, num_kp=10)"
   ]
  },
  {
   "cell_type": "code",
   "execution_count": 196,
   "id": "333170a8",
   "metadata": {},
   "outputs": [],
   "source": [
    "heatmap = a(x)\n",
    "heatmap.shape\n",
    "\n",
    "final_shape = heatmap.shape"
   ]
  },
  {
   "cell_type": "code",
   "execution_count": 197,
   "id": "6dab549e",
   "metadata": {},
   "outputs": [
    {
     "data": {
      "text/plain": [
       "torch.Size([10, 10, 65536])"
      ]
     },
     "execution_count": 197,
     "metadata": {},
     "output_type": "execute_result"
    }
   ],
   "source": [
    "heatmap = heatmap.view(final_shape[0], final_shape[1], -1)\n",
    "heatmap.shape"
   ]
  },
  {
   "cell_type": "code",
   "execution_count": 233,
   "id": "e95a32c7",
   "metadata": {},
   "outputs": [
    {
     "data": {
      "text/plain": [
       "torch.Size([10, 10, 65536])"
      ]
     },
     "execution_count": 233,
     "metadata": {},
     "output_type": "execute_result"
    }
   ],
   "source": [
    "heatmap_tmp = F.softmax(heatmap / 0.1, dim=2)\n",
    "heatmap_tmp.shape"
   ]
  },
  {
   "cell_type": "code",
   "execution_count": 234,
   "id": "42c085d2",
   "metadata": {},
   "outputs": [
    {
     "data": {
      "text/plain": [
       "tensor([2.5754e-09, 6.7504e-11, 2.1276e-10,  ..., 4.2270e-08, 1.4624e-07,\n",
       "        6.2656e-10], grad_fn=<SelectBackward>)"
      ]
     },
     "execution_count": 234,
     "metadata": {},
     "output_type": "execute_result"
    }
   ],
   "source": [
    "heatmap_tmp[0][0]"
   ]
  },
  {
   "cell_type": "code",
   "execution_count": 235,
   "id": "60849729",
   "metadata": {},
   "outputs": [
    {
     "data": {
      "text/plain": [
       "tensor([1.1517e-05, 5.5594e-06, 6.9942e-06,  ..., 2.0154e-05, 2.5833e-05,\n",
       "        8.6807e-06], grad_fn=<SelectBackward>)"
      ]
     },
     "execution_count": 235,
     "metadata": {},
     "output_type": "execute_result"
    }
   ],
   "source": [
    "heatmap_tmp = F.softmax(heatmap / 0.5, dim=2)\n",
    "heatmap_tmp.shape\n",
    "heatmap_tmp[0][0]"
   ]
  },
  {
   "cell_type": "code",
   "execution_count": 200,
   "id": "e157bb45",
   "metadata": {},
   "outputs": [
    {
     "name": "stdout",
     "output_type": "stream",
     "text": [
      "[0, 0, 3, 4, 5, 7]\n"
     ]
    }
   ],
   "source": [
    "N, W = 4, 5\n",
    "bag = [(2,3), (3,4), (4,5), (5,6)] # (weight,benefit) 순서\n",
    "\n",
    "knap = [0 for _ in range(W+1)]\n",
    "\n",
    "for i in range(N):\n",
    "    for j in range(W, 1, -1):\n",
    "        if bag[i][0] <= j:\n",
    "            knap[j] = max(knap[j], knap[j-bag[i][0]] + bag[i][1])\n",
    "\n",
    "print(knap)"
   ]
  },
  {
   "cell_type": "code",
   "execution_count": 226,
   "id": "d9e9ca66",
   "metadata": {},
   "outputs": [
    {
     "name": "stdout",
     "output_type": "stream",
     "text": [
      "64700\n",
      "10200\n",
      "10200\n",
      "9800\n",
      "10200\n",
      "4300\n",
      "9800\n",
      "10200\n"
     ]
    }
   ],
   "source": [
    "def printknapSack(W, wt, val, n):\n",
    "    K = [[0 for w in range(W + 1)]\n",
    "            for i in range(n + 1)]\n",
    "             \n",
    "    # Build table K[][] in bottom\n",
    "    # up manner\n",
    "    for i in range(n + 1):\n",
    "        for w in range(W + 1):\n",
    "            if i == 0 or w == 0:\n",
    "                K[i][w] = 0\n",
    "            elif wt[i - 1] <= w:\n",
    "                K[i][w] = max(val[i - 1]\n",
    "                  + K[i - 1][w - wt[i - 1]],\n",
    "                               K[i - 1][w])\n",
    "            else:\n",
    "                K[i][w] = K[i - 1][w]\n",
    " \n",
    "    # stores the result of Knapsack\n",
    "    res = K[n][W]\n",
    "    print(res)\n",
    "     \n",
    "    w = W\n",
    "    for i in range(n, 0, -1):\n",
    "        if res <= 0:\n",
    "            break\n",
    "        # either the result comes from the\n",
    "        # top (K[i-1][w]) or from (val[i-1]\n",
    "        # + K[i-1] [w-wt[i-1]]) as in Knapsack\n",
    "        # table. If it comes from the latter\n",
    "        # one/ it means the item is included.\n",
    "        if res == K[i - 1][w]:\n",
    "            continue\n",
    "        else:\n",
    " \n",
    "            # This item is included.\n",
    "            print(wt[i - 1])\n",
    "             \n",
    "            # Since this weight is included\n",
    "            # its value is deducted\n",
    "            res = res - val[i - 1]\n",
    "            w = w - wt[i - 1]\n",
    "\n",
    "            \n",
    "val = [10200, 9800, 4300,10200, 9800, 4300,10200, 9800, 4300,10200, 9800, 4300]\n",
    "wt = [10200, 9800, 4300,10200, 9800, 4300,10200, 9800, 4300,10200, 9800, 4300]\n",
    "W = 64800\n",
    "n = len(val)\n",
    "     \n",
    "printknapSack(W, wt, val, n)"
   ]
  },
  {
   "cell_type": "code",
   "execution_count": 227,
   "id": "e0d6d18b",
   "metadata": {},
   "outputs": [
    {
     "data": {
      "text/plain": [
       "64700"
      ]
     },
     "execution_count": 227,
     "metadata": {},
     "output_type": "execute_result"
    }
   ],
   "source": [
    "10200 + 10200 +10200 +10200 + 9800 + 9800 +4300"
   ]
  },
  {
   "cell_type": "code",
   "execution_count": null,
   "id": "0b3e4438",
   "metadata": {},
   "outputs": [],
   "source": []
  },
  {
   "cell_type": "code",
   "execution_count": 176,
   "id": "ae63d9b9",
   "metadata": {},
   "outputs": [],
   "source": [
    "kp = KPDetector(block_expansion=32, num_kp=10, num_channels=3, max_features=1024, num_blocks=5, temperature=0.1, kp_variance='matrix')"
   ]
  },
  {
   "cell_type": "code",
   "execution_count": 177,
   "id": "0c414c90",
   "metadata": {},
   "outputs": [],
   "source": [
    "x = torch.randn([10,3,256,256])"
   ]
  },
  {
   "cell_type": "code",
   "execution_count": 178,
   "id": "10ae542f",
   "metadata": {},
   "outputs": [
    {
     "ename": "NameError",
     "evalue": "name 'make_coordinate_grid' is not defined",
     "output_type": "error",
     "traceback": [
      "\u001b[1;31m---------------------------------------------------------------------------\u001b[0m",
      "\u001b[1;31mNameError\u001b[0m                                 Traceback (most recent call last)",
      "\u001b[1;32m~\\AppData\\Local\\Temp/ipykernel_18360/1084751298.py\u001b[0m in \u001b[0;36m<module>\u001b[1;34m\u001b[0m\n\u001b[1;32m----> 1\u001b[1;33m \u001b[0mkp\u001b[0m\u001b[1;33m(\u001b[0m\u001b[0mx\u001b[0m\u001b[1;33m)\u001b[0m\u001b[1;33m\u001b[0m\u001b[1;33m\u001b[0m\u001b[0m\n\u001b[0m",
      "\u001b[1;32mc:\\users\\wetr2\\anaconda3\\envs\\videnv\\lib\\site-packages\\torch\\nn\\modules\\module.py\u001b[0m in \u001b[0;36m_call_impl\u001b[1;34m(self, *input, **kwargs)\u001b[0m\n\u001b[0;32m    725\u001b[0m             \u001b[0mresult\u001b[0m \u001b[1;33m=\u001b[0m \u001b[0mself\u001b[0m\u001b[1;33m.\u001b[0m\u001b[0m_slow_forward\u001b[0m\u001b[1;33m(\u001b[0m\u001b[1;33m*\u001b[0m\u001b[0minput\u001b[0m\u001b[1;33m,\u001b[0m \u001b[1;33m**\u001b[0m\u001b[0mkwargs\u001b[0m\u001b[1;33m)\u001b[0m\u001b[1;33m\u001b[0m\u001b[1;33m\u001b[0m\u001b[0m\n\u001b[0;32m    726\u001b[0m         \u001b[1;32melse\u001b[0m\u001b[1;33m:\u001b[0m\u001b[1;33m\u001b[0m\u001b[1;33m\u001b[0m\u001b[0m\n\u001b[1;32m--> 727\u001b[1;33m             \u001b[0mresult\u001b[0m \u001b[1;33m=\u001b[0m \u001b[0mself\u001b[0m\u001b[1;33m.\u001b[0m\u001b[0mforward\u001b[0m\u001b[1;33m(\u001b[0m\u001b[1;33m*\u001b[0m\u001b[0minput\u001b[0m\u001b[1;33m,\u001b[0m \u001b[1;33m**\u001b[0m\u001b[0mkwargs\u001b[0m\u001b[1;33m)\u001b[0m\u001b[1;33m\u001b[0m\u001b[1;33m\u001b[0m\u001b[0m\n\u001b[0m\u001b[0;32m    728\u001b[0m         for hook in itertools.chain(\n\u001b[0;32m    729\u001b[0m                 \u001b[0m_global_forward_hooks\u001b[0m\u001b[1;33m.\u001b[0m\u001b[0mvalues\u001b[0m\u001b[1;33m(\u001b[0m\u001b[1;33m)\u001b[0m\u001b[1;33m,\u001b[0m\u001b[1;33m\u001b[0m\u001b[1;33m\u001b[0m\u001b[0m\n",
      "\u001b[1;32m~\\Documents\\GitHub\\Research_notes\\Unsupervised_video_generation\\Monkey-Net_from_scratch\\keypoint_detector.py\u001b[0m in \u001b[0;36mforward\u001b[1;34m(self, x)\u001b[0m\n\u001b[0;32m     57\u001b[0m             \u001b[0mheatmap\u001b[0m \u001b[1;33m=\u001b[0m \u001b[0mheatmap\u001b[0m\u001b[1;33m.\u001b[0m\u001b[0mview\u001b[0m\u001b[1;33m(\u001b[0m\u001b[1;33m*\u001b[0m\u001b[0mfinal_shape\u001b[0m\u001b[1;33m)\u001b[0m\u001b[1;33m\u001b[0m\u001b[1;33m\u001b[0m\u001b[0m\n\u001b[0;32m     58\u001b[0m \u001b[1;33m\u001b[0m\u001b[0m\n\u001b[1;32m---> 59\u001b[1;33m             \u001b[0mout\u001b[0m \u001b[1;33m=\u001b[0m \u001b[0mgaussian2kp\u001b[0m\u001b[1;33m(\u001b[0m\u001b[0mheatmap\u001b[0m\u001b[1;33m)\u001b[0m\u001b[1;33m\u001b[0m\u001b[1;33m\u001b[0m\u001b[0m\n\u001b[0m\u001b[0;32m     60\u001b[0m \u001b[1;33m\u001b[0m\u001b[0m\n\u001b[0;32m     61\u001b[0m         \u001b[1;32melif\u001b[0m \u001b[0mself\u001b[0m\u001b[1;33m.\u001b[0m\u001b[0mdimension\u001b[0m\u001b[1;33m==\u001b[0m\u001b[1;36m3\u001b[0m\u001b[1;33m:\u001b[0m\u001b[1;33m\u001b[0m\u001b[1;33m\u001b[0m\u001b[0m\n",
      "\u001b[1;32m~\\Documents\\GitHub\\Research_notes\\Unsupervised_video_generation\\Monkey-Net_from_scratch\\keypoint_detector.py\u001b[0m in \u001b[0;36mgaussian2kp\u001b[1;34m(heatmap)\u001b[0m\n\u001b[0;32m     11\u001b[0m     \u001b[0mshape\u001b[0m \u001b[1;33m=\u001b[0m \u001b[0mheatmap\u001b[0m\u001b[1;33m.\u001b[0m\u001b[0mshape\u001b[0m\u001b[1;33m\u001b[0m\u001b[1;33m\u001b[0m\u001b[0m\n\u001b[0;32m     12\u001b[0m     \u001b[0mheatmap\u001b[0m \u001b[1;33m=\u001b[0m \u001b[0mheatmap\u001b[0m\u001b[1;33m.\u001b[0m\u001b[0munsqueeze\u001b[0m\u001b[1;33m(\u001b[0m\u001b[1;33m-\u001b[0m\u001b[1;36m1\u001b[0m\u001b[1;33m)\u001b[0m\u001b[1;33m\u001b[0m\u001b[1;33m\u001b[0m\u001b[0m\n\u001b[1;32m---> 13\u001b[1;33m     \u001b[0mgrid\u001b[0m \u001b[1;33m=\u001b[0m \u001b[0mmake_coordinate_grid\u001b[0m\u001b[1;33m(\u001b[0m\u001b[0mshape\u001b[0m\u001b[1;33m[\u001b[0m\u001b[1;36m2\u001b[0m\u001b[1;33m:\u001b[0m\u001b[1;33m]\u001b[0m\u001b[1;33m,\u001b[0m \u001b[0mheatmap\u001b[0m\u001b[1;33m.\u001b[0m\u001b[0mtype\u001b[0m\u001b[1;33m(\u001b[0m\u001b[1;33m)\u001b[0m\u001b[1;33m)\u001b[0m\u001b[1;33m.\u001b[0m\u001b[0munsqueeze_\u001b[0m\u001b[1;33m(\u001b[0m\u001b[1;36m0\u001b[0m\u001b[1;33m)\u001b[0m\u001b[1;33m.\u001b[0m\u001b[0munsqueeze_\u001b[0m\u001b[1;33m(\u001b[0m\u001b[1;36m0\u001b[0m\u001b[1;33m)\u001b[0m\u001b[1;33m\u001b[0m\u001b[1;33m\u001b[0m\u001b[0m\n\u001b[0m\u001b[0;32m     14\u001b[0m     \u001b[0mvalue\u001b[0m \u001b[1;33m=\u001b[0m \u001b[1;33m(\u001b[0m\u001b[0mheatmap\u001b[0m \u001b[1;33m*\u001b[0m \u001b[0mgrid\u001b[0m\u001b[1;33m)\u001b[0m\u001b[1;33m.\u001b[0m\u001b[0msum\u001b[0m\u001b[1;33m(\u001b[0m\u001b[0mdim\u001b[0m\u001b[1;33m=\u001b[0m\u001b[1;33m(\u001b[0m\u001b[1;36m2\u001b[0m\u001b[1;33m,\u001b[0m \u001b[1;36m3\u001b[0m\u001b[1;33m)\u001b[0m\u001b[1;33m)\u001b[0m\u001b[1;33m\u001b[0m\u001b[1;33m\u001b[0m\u001b[0m\n\u001b[0;32m     15\u001b[0m     \u001b[0mkp\u001b[0m \u001b[1;33m=\u001b[0m \u001b[1;33m{\u001b[0m\u001b[1;34m'value'\u001b[0m\u001b[1;33m:\u001b[0m \u001b[0mvalue\u001b[0m\u001b[1;33m}\u001b[0m\u001b[1;33m\u001b[0m\u001b[1;33m\u001b[0m\u001b[0m\n",
      "\u001b[1;31mNameError\u001b[0m: name 'make_coordinate_grid' is not defined"
     ]
    }
   ],
   "source": [
    "kp(x)"
   ]
  },
  {
   "cell_type": "code",
   "execution_count": 179,
   "id": "05f3c078",
   "metadata": {},
   "outputs": [],
   "source": [
    "spatial_size = (256, 256)\n",
    "h, w = spatial_size"
   ]
  },
  {
   "cell_type": "code",
   "execution_count": 180,
   "id": "2db524ca",
   "metadata": {},
   "outputs": [
    {
     "ename": "ValueError",
     "evalue": "invalid type: 'type'",
     "output_type": "error",
     "traceback": [
      "\u001b[1;31m---------------------------------------------------------------------------\u001b[0m",
      "\u001b[1;31mValueError\u001b[0m                                Traceback (most recent call last)",
      "\u001b[1;32m~\\AppData\\Local\\Temp/ipykernel_18360/2501410327.py\u001b[0m in \u001b[0;36m<module>\u001b[1;34m\u001b[0m\n\u001b[1;32m----> 1\u001b[1;33m \u001b[0mx\u001b[0m \u001b[1;33m=\u001b[0m \u001b[0mtorch\u001b[0m\u001b[1;33m.\u001b[0m\u001b[0marange\u001b[0m\u001b[1;33m(\u001b[0m\u001b[0mw\u001b[0m\u001b[1;33m)\u001b[0m\u001b[1;33m.\u001b[0m\u001b[0mtype\u001b[0m\u001b[1;33m(\u001b[0m\u001b[0mtype\u001b[0m\u001b[1;33m)\u001b[0m\u001b[1;33m\u001b[0m\u001b[1;33m\u001b[0m\u001b[0m\n\u001b[0m\u001b[0;32m      2\u001b[0m \u001b[0my\u001b[0m \u001b[1;33m=\u001b[0m \u001b[0mtorch\u001b[0m\u001b[1;33m.\u001b[0m\u001b[0marange\u001b[0m\u001b[1;33m(\u001b[0m\u001b[0mh\u001b[0m\u001b[1;33m)\u001b[0m\u001b[1;33m.\u001b[0m\u001b[0mtype\u001b[0m\u001b[1;33m(\u001b[0m\u001b[0mtype\u001b[0m\u001b[1;33m)\u001b[0m\u001b[1;33m\u001b[0m\u001b[1;33m\u001b[0m\u001b[0m\n",
      "\u001b[1;31mValueError\u001b[0m: invalid type: 'type'"
     ]
    }
   ],
   "source": [
    "x = torch.arange(w).type(type)\n",
    "y = torch.arange(h).type(type)"
   ]
  }
 ],
 "metadata": {
  "kernelspec": {
   "display_name": "Python 3 (ipykernel)",
   "language": "python",
   "name": "python3"
  },
  "language_info": {
   "codemirror_mode": {
    "name": "ipython",
    "version": 3
   },
   "file_extension": ".py",
   "mimetype": "text/x-python",
   "name": "python",
   "nbconvert_exporter": "python",
   "pygments_lexer": "ipython3",
   "version": "3.7.10"
  }
 },
 "nbformat": 4,
 "nbformat_minor": 5
}
