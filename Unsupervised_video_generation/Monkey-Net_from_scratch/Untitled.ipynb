{
 "cells": [
  {
   "cell_type": "code",
   "execution_count": 37,
   "id": "946bf94b",
   "metadata": {},
   "outputs": [
    {
     "name": "stdout",
     "output_type": "stream",
     "text": [
      "The autoreload extension is already loaded. To reload it, use:\n",
      "  %reload_ext autoreload\n"
     ]
    }
   ],
   "source": [
    "%load_ext autoreload\n",
    "%autoreload 2"
   ]
  },
  {
   "cell_type": "code",
   "execution_count": 38,
   "id": "74d0fc2c",
   "metadata": {},
   "outputs": [],
   "source": [
    "from torch import nn\n",
    "import torch\n",
    "import torch.nn.functional as F\n",
    "from keypoint_detector import kp2gaussian_3d, make_coordinate_grid\n",
    "import cv2"
   ]
  },
  {
   "cell_type": "code",
   "execution_count": 39,
   "id": "d4d1da9a",
   "metadata": {},
   "outputs": [],
   "source": [
    "img2 = torch.tensor(cv2.resize(cv2.imread('../../../../../../../dataset/celebA/img_align_celeba/000020.jpg'),(256,256))).float()\n",
    "img2 = img2.permute(2,0,1)\n",
    "img2 = torch.unsqueeze(img2, 0)"
   ]
  },
  {
   "cell_type": "code",
   "execution_count": 40,
   "id": "38d84f6a",
   "metadata": {},
   "outputs": [],
   "source": [
    "class MovementEmbeddingModule(nn.Module):\n",
    "    \"\"\"\n",
    "    Produce a keypoint representation that will be further used by other modules\n",
    "    \"\"\"\n",
    "\n",
    "    def __init__(self, num_kp, kp_variance, num_channels, use_deformed_source_image=False, use_difference=False,\n",
    "                 use_heatmap=True, add_bg_feature_map=False, heatmap_type='gaussian', norm_const='sum', scale_factor=1):\n",
    "        super(MovementEmbeddingModule, self).__init__()\n",
    "\n",
    "        assert heatmap_type in ['gaussian', 'difference']\n",
    "\n",
    "        assert ((int(use_heatmap) + int(use_deformed_source_image) + int(use_difference)) >= 1)\n",
    "\n",
    "        self.out_channels = (1 * use_heatmap + 2 * use_difference + num_channels * use_deformed_source_image) * (\n",
    "            num_kp + add_bg_feature_map)\n",
    "\n",
    "        self.kp_variance = kp_variance\n",
    "        self.heatmap_type = heatmap_type\n",
    "        self.use_difference = use_difference\n",
    "        self.use_deformed_source_image = use_deformed_source_image\n",
    "        self.use_heatmap = use_heatmap\n",
    "        self.add_bg_feature_map = add_bg_feature_map\n",
    "        self.norm_const = norm_const\n",
    "        self.scale_factor = scale_factor\n",
    "\n",
    "    def normalize_heatmap(self, heatmap):\n",
    "        if self.norm_const == \"sum\":\n",
    "            heatmap_shape = heatmap.shape\n",
    "            heatmap = heatmap.view(heatmap_shape[0], heatmap_shape[1], heatmap_shape[2], -1)\n",
    "            heatmap = heatmap / heatmap.sum(dim=3, keepdim=True)\n",
    "            return heatmap.view(*heatmap_shape)\n",
    "        else:\n",
    "            return heatmap / self.norm_const\n",
    "\n",
    "    def forward(self, source_image, kp_driving, kp_source):\n",
    "        if self.scale_factor != 1:\n",
    "            source_image = F.interpolate(source_image, scale_factor=(1, self.scale_factor, self.scale_factor))\n",
    "\n",
    "        spatial_size = source_image.shape[3:]\n",
    "\n",
    "        bs, _, _, h, w = source_image.shape\n",
    "        _, d, num_kp, _ = kp_driving['mean'].shape\n",
    "\n",
    "        inputs = []\n",
    "        if self.use_heatmap:\n",
    "            heatmap = self.normalize_heatmap(\n",
    "                kp2gaussian_3d(kp_driving, spatial_size=spatial_size, kp_variance=self.kp_variance))\n",
    "            if self.heatmap_type == 'difference':\n",
    "                heatmap_appearance = self.normalize_heatmap(\n",
    "                    kp2gaussian_3d(kp_source, spatial_size=spatial_size, kp_variance=self.kp_variance))\n",
    "                heatmap = heatmap - heatmap_appearance\n",
    "            if self.add_bg_feature_map:\n",
    "                zeros = torch.zeros(bs, d, 1, h, w).type(heatmap.type())\n",
    "                heatmap = torch.cat([zeros, heatmap], dim=2)\n",
    "            heatmap = heatmap.unsqueeze(3)\n",
    "            inputs.append(heatmap)\n",
    "\n",
    "        num_kp += self.add_bg_feature_map\n",
    "        if self.use_difference or self.use_deformed_source_image:\n",
    "            kp_video_diff = kp_source['mean'] - kp_driving['mean']\n",
    "            if self.add_bg_feature_map:\n",
    "                zeros = torch.zeros(bs, d, 1, 2).type(kp_video_diff.type())\n",
    "                kp_video_diff = torch.cat([zeros, kp_video_diff], dim=2)\n",
    "            kp_video_diff = kp_video_diff.view((bs, d, num_kp, 2, 1, 1)).repeat(1, 1, 1, 1, h, w)\n",
    "\n",
    "        if self.use_difference:\n",
    "            inputs.append(kp_video_diff)\n",
    "\n",
    "        if self.use_deformed_source_image:\n",
    "            appearance_repeat = source_image.unsqueeze(1).unsqueeze(1).repeat(1, d, num_kp, 1, 1, 1, 1)\n",
    "            appearance_repeat = appearance_repeat.view(bs * d * num_kp, -1, h, w)\n",
    "\n",
    "            deformation_approx = kp_video_diff.view((bs * d * num_kp, -1, h, w)).permute(0, 2, 3, 1)\n",
    "            coordinate_grid = make_coordinate_grid((h, w), type=deformation_approx.type())\n",
    "            coordinate_grid = coordinate_grid.view(1, h, w, 2)\n",
    "            deformation_approx = coordinate_grid + deformation_approx\n",
    "\n",
    "            appearance_approx_deform = F.grid_sample(appearance_repeat, deformation_approx)\n",
    "            appearance_approx_deform = appearance_approx_deform.view((bs, d, num_kp, -1, h, w))\n",
    "            inputs.append(appearance_approx_deform)\n",
    "\n",
    "        movement_encoding = torch.cat(inputs, dim=3)\n",
    "        movement_encoding = movement_encoding.view(bs, d, -1, h, w)\n",
    "\n",
    "        return movement_encoding.permute(0, 2, 1, 3, 4)"
   ]
  },
  {
   "cell_type": "code",
   "execution_count": 41,
   "id": "34edfc31",
   "metadata": {},
   "outputs": [
    {
     "name": "stderr",
     "output_type": "stream",
     "text": [
      "C:\\Users\\wetr2\\anaconda3\\envs\\videnv\\lib\\site-packages\\ipykernel_launcher.py:4: YAMLLoadWarning: calling yaml.load() without Loader=... is deprecated, as the default Loader is unsafe. Please read https://msg.pyyaml.org/load for full details.\n",
      "  after removing the cwd from sys.path.\n"
     ]
    }
   ],
   "source": [
    "import yaml\n",
    "from keypoint_detector import KPDetector\n",
    "with open('config/vox.yaml') as f:\n",
    "        config = yaml.load(f)"
   ]
  },
  {
   "cell_type": "code",
   "execution_count": 42,
   "id": "fa344b9f",
   "metadata": {},
   "outputs": [
    {
     "data": {
      "text/plain": [
       "MovementEmbeddingModule()"
      ]
     },
     "execution_count": 42,
     "metadata": {},
     "output_type": "execute_result"
    }
   ],
   "source": [
    "MovementEmbeddingModule(num_kp=10, kp_variance=0.01, num_channels=3, add_bg_feature_map=True)"
   ]
  },
  {
   "cell_type": "code",
   "execution_count": 43,
   "id": "b8112446",
   "metadata": {},
   "outputs": [
    {
     "ename": "TypeError",
     "evalue": "__init__() got an unexpected keyword argument 'num_kp'",
     "output_type": "error",
     "traceback": [
      "\u001b[1;31m---------------------------------------------------------------------------\u001b[0m",
      "\u001b[1;31mTypeError\u001b[0m                                 Traceback (most recent call last)",
      "\u001b[1;32m~\\AppData\\Local\\Temp/ipykernel_44132/382907817.py\u001b[0m in \u001b[0;36m<module>\u001b[1;34m\u001b[0m\n\u001b[1;32m----> 1\u001b[1;33m \u001b[0mkp_detector\u001b[0m \u001b[1;33m=\u001b[0m \u001b[0mKPDetector\u001b[0m\u001b[1;33m(\u001b[0m\u001b[1;33m**\u001b[0m\u001b[0mconfig\u001b[0m\u001b[1;33m[\u001b[0m\u001b[1;34m'model_params'\u001b[0m\u001b[1;33m]\u001b[0m\u001b[1;33m[\u001b[0m\u001b[1;34m'kp_detector_params'\u001b[0m\u001b[1;33m]\u001b[0m\u001b[1;33m,\u001b[0m \u001b[1;33m**\u001b[0m\u001b[0mconfig\u001b[0m\u001b[1;33m[\u001b[0m\u001b[1;34m'model_params'\u001b[0m\u001b[1;33m]\u001b[0m\u001b[1;33m[\u001b[0m\u001b[1;34m'common_params'\u001b[0m\u001b[1;33m]\u001b[0m\u001b[1;33m)\u001b[0m\u001b[1;33m\u001b[0m\u001b[1;33m\u001b[0m\u001b[0m\n\u001b[0m",
      "\u001b[1;32mc:\\Users\\wetr2\\Documents\\GitHub\\Research_notes\\Unsupervised_video_generation\\Monkey-Net_from_scratch\\keypoint_detector.py\u001b[0m in \u001b[0;36m__init__\u001b[1;34m(self, block_expansion, num_kp, num_channels, max_features, num_blocks, temperature, kp_variance, scale_factor, clip_variance, dimension)\u001b[0m\n\u001b[0;32m    142\u001b[0m         \u001b[0mself\u001b[0m\u001b[1;33m.\u001b[0m\u001b[0mdimension\u001b[0m \u001b[1;33m=\u001b[0m \u001b[0mdimension\u001b[0m\u001b[1;33m\u001b[0m\u001b[1;33m\u001b[0m\u001b[0m\n\u001b[0;32m    143\u001b[0m         \u001b[0mself\u001b[0m\u001b[1;33m.\u001b[0m\u001b[0mnum_kp\u001b[0m \u001b[1;33m=\u001b[0m \u001b[0mnum_kp\u001b[0m\u001b[1;33m\u001b[0m\u001b[1;33m\u001b[0m\u001b[0m\n\u001b[1;32m--> 144\u001b[1;33m         \u001b[0mself\u001b[0m\u001b[1;33m.\u001b[0m\u001b[0mpredictor\u001b[0m \u001b[1;33m=\u001b[0m \u001b[0mHourglass\u001b[0m\u001b[1;33m(\u001b[0m\u001b[0mdimension\u001b[0m\u001b[1;33m=\u001b[0m\u001b[0mself\u001b[0m\u001b[1;33m.\u001b[0m\u001b[0mdimension\u001b[0m\u001b[1;33m,\u001b[0m \u001b[0mnum_kp\u001b[0m\u001b[1;33m=\u001b[0m\u001b[0mself\u001b[0m\u001b[1;33m.\u001b[0m\u001b[0mnum_kp\u001b[0m\u001b[1;33m)\u001b[0m\u001b[1;33m\u001b[0m\u001b[1;33m\u001b[0m\u001b[0m\n\u001b[0m\u001b[0;32m    145\u001b[0m         \u001b[0mself\u001b[0m\u001b[1;33m.\u001b[0m\u001b[0mtemperature\u001b[0m \u001b[1;33m=\u001b[0m \u001b[0mtemperature\u001b[0m\u001b[1;33m\u001b[0m\u001b[1;33m\u001b[0m\u001b[0m\n\u001b[0;32m    146\u001b[0m         \u001b[0mself\u001b[0m\u001b[1;33m.\u001b[0m\u001b[0mkp_variance\u001b[0m \u001b[1;33m=\u001b[0m \u001b[0mkp_variance\u001b[0m\u001b[1;33m\u001b[0m\u001b[1;33m\u001b[0m\u001b[0m\n",
      "\u001b[1;31mTypeError\u001b[0m: __init__() got an unexpected keyword argument 'num_kp'"
     ]
    }
   ],
   "source": [
    "kp_detector = KPDetector(**config['model_params']['kp_detector_params'], **config['model_params']['common_params'])"
   ]
  },
  {
   "cell_type": "code",
   "execution_count": null,
   "id": "386ae08e",
   "metadata": {},
   "outputs": [],
   "source": [
    "prediction = self.mask_embedding(img2, kp_driving, kp_source)"
   ]
  }
 ],
 "metadata": {
  "kernelspec": {
   "display_name": "Python 3 (ipykernel)",
   "language": "python",
   "name": "python3"
  },
  "language_info": {
   "codemirror_mode": {
    "name": "ipython",
    "version": 3
   },
   "file_extension": ".py",
   "mimetype": "text/x-python",
   "name": "python",
   "nbconvert_exporter": "python",
   "pygments_lexer": "ipython3",
   "version": "3.7.10"
  }
 },
 "nbformat": 4,
 "nbformat_minor": 5
}
